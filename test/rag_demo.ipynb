{
 "cells": [
  {
   "cell_type": "code",
   "id": "initial_id",
   "metadata": {
    "collapsed": true,
    "ExecuteTime": {
     "end_time": "2024-07-02T09:17:45.779701Z",
     "start_time": "2024-07-02T09:17:45.392307Z"
    }
   },
   "source": [
    "from getpass import getpass\n",
    "from langchain_openai import ChatOpenAI\n",
    "\n",
    "#OPENAI_API_KEY = getpass()\n",
    "\n",
    "import os\n",
    "\n",
    "#os.environ['OPENAI_API_KEY'] = OPENAI_API_KEY\n",
    "\n",
    "#OPENAI_API_SECRET = getpass()\n",
    "#os.environ['OPENAI_API_SECRET'] = OPENAI_API_SECRET\n",
    "os.environ['api_key'] =  \"sk-orbrjhjcqmgezlurbvsmfxqmnjwkmjdrypwdiwvyfarkbnag\"\n",
    "os.environ['base_url'] = \"https://api.siliconflow.cn/v1\"\n",
    "\n",
    "os.environ[\"OPENAI_API_BASE\"] = \"http://192.168.100.111:9997/v1/\"\n",
    "os.environ[\"OPENAI_API_KEY\"] = \"xxx\"\n",
    "os.environ[\"TAVILY_API_KEY\"] = \"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\"  # 官网注册获取key"
   ],
   "outputs": [],
   "execution_count": 1
  },
  {
   "metadata": {
    "ExecuteTime": {
     "end_time": "2024-07-02T09:18:06.428592Z",
     "start_time": "2024-07-02T09:18:06.398027Z"
    }
   },
   "cell_type": "code",
   "source": "llm = ChatOpenAI(model=\"qwen2\", max_tokens=100, max_retries=2)",
   "id": "3dc82ca3235d2d85",
   "outputs": [],
   "execution_count": 2
  },
  {
   "metadata": {
    "ExecuteTime": {
     "end_time": "2024-07-02T09:18:09.870988Z",
     "start_time": "2024-07-02T09:18:08.623257Z"
    }
   },
   "cell_type": "code",
   "source": [
    "# set the LANGCHAIN_API_KEY environment variable (create key in settings)\n",
    "from langchain import hub\n",
    "prompt = hub.pull(\"rlm/rag-prompt\")"
   ],
   "id": "71d643611e3c19a9",
   "outputs": [],
   "execution_count": 3
  },
  {
   "metadata": {},
   "cell_type": "code",
   "outputs": [],
   "execution_count": null,
   "source": "from langsmith import traceable\n",
   "id": "9982ba8f4e2e913b"
  }
 ],
 "metadata": {
  "kernelspec": {
   "display_name": "Python 3",
   "language": "python",
   "name": "python3"
  },
  "language_info": {
   "codemirror_mode": {
    "name": "ipython",
    "version": 2
   },
   "file_extension": ".py",
   "mimetype": "text/x-python",
   "name": "python",
   "nbconvert_exporter": "python",
   "pygments_lexer": "ipython2",
   "version": "2.7.6"
  }
 },
 "nbformat": 4,
 "nbformat_minor": 5
}
