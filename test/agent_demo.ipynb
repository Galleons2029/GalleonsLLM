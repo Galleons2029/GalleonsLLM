{
 "cells": [
  {
   "metadata": {
    "ExecuteTime": {
     "end_time": "2024-07-09T12:35:30.197902Z",
     "start_time": "2024-07-09T12:35:29.807035Z"
    }
   },
   "cell_type": "code",
   "source": [
    "from getpass import getpass\n",
    "from langchain_openai import ChatOpenAI\n",
    "\n",
    "#OPENAI_API_KEY = getpass()\n",
    "\n",
    "import os\n",
    "\n",
    "#os.environ['OPENAI_API_KEY'] = OPENAI_API_KEY\n",
    "\n",
    "#OPENAI_API_SECRET = getpass()\n",
    "#os.environ['OPENAI_API_SECRET'] = OPENAI_API_SECRET\n",
    "os.environ['api_key'] =  \"sk-orbrjhjcqmgezlurbvsmfxqmnjwkmjdrypwdiwvyfarkbnag\"\n",
    "os.environ['base_url'] = \"https://api.siliconflow.cn/v1\"\n",
    "\n",
    "os.environ[\"OPENAI_API_BASE\"] = \"http://192.168.100.111:9997/v1/\"\n",
    "os.environ[\"OPENAI_API_KEY\"] = \"xxx\"\n",
    "os.environ[\"TAVILY_API_KEY\"] = \"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\"  # 官网注册获取key\n"
   ],
   "id": "4eea6973319beab3",
   "outputs": [],
   "execution_count": 1
  },
  {
   "metadata": {
    "ExecuteTime": {
     "end_time": "2024-07-08T13:10:21.949089Z",
     "start_time": "2024-07-08T13:10:21.919093Z"
    }
   },
   "cell_type": "code",
   "source": "llm = ChatOpenAI(model=\"qwen2\", max_tokens=100, max_retries=2)",
   "id": "228bcab61ca937b1",
   "outputs": [],
   "execution_count": 2
  },
  {
   "cell_type": "code",
   "id": "initial_id",
   "metadata": {
    "collapsed": true,
    "ExecuteTime": {
     "end_time": "2024-07-08T13:10:24.778242Z",
     "start_time": "2024-07-08T13:10:22.132353Z"
    }
   },
   "source": [
    "from openai import OpenAI\n",
    "from langchain_core.prompts import PromptTemplate\n",
    "# from langchain_openai import OpenAI\n",
    "\n",
    "\n",
    "client = OpenAI(api_key=\"sk-orbrjhjcqmgezlurbvsmfxqmnjwkmjdrypwdiwvyfarkbnag\", base_url=\"https://api.siliconflow.cn/v1\")\n",
    "\n",
    "response = client.chat.completions.create(\n",
    "    model='THUDM/glm-4-9b-chat',\n",
    "    messages=[{\n",
    "        'role': 'user',\n",
    "        'content': \"随机用csv格式输出一个表格\"\n",
    "    }],\n",
    "    stream=False\n",
    ")\n",
    "response"
   ],
   "outputs": [
    {
     "data": {
      "text/plain": [
       "ChatCompletion(id='019092777d73ef8c78b731694452ca55', choices=[Choice(finish_reason='stop', index=0, logprobs=None, message=ChatCompletionMessage(content='\\n当然可以。以下是一个简单的CSV格式的示例表格数据：\\n\\n```csv\\nID,Name,Age,Salary\\n1,John Doe,30,60000\\n2,Jane Smith,28,50000\\n3,Bill Johnson,45,70000\\n4,Jessica Wang,25,48000\\n5,Michael Brown,38,62000\\n```\\n\\n这个表格包含了五个人员的基本信息，包括ID、姓名、年龄和薪水。每行代表一个人员的记录，字段之间用逗号分隔。在实际的使用中，你可以根据需求增加或者减少列，并填充相应的数据。', role='assistant', function_call=None, tool_calls=None))], created=1720444222, model='THUDM/glm-4-9b-chat', object='chat.completion', service_tier=None, system_fingerprint='', usage=CompletionUsage(completion_tokens=128, prompt_tokens=12, total_tokens=140))"
      ]
     },
     "execution_count": 3,
     "metadata": {},
     "output_type": "execute_result"
    }
   ],
   "execution_count": 3
  },
  {
   "metadata": {
    "ExecuteTime": {
     "end_time": "2024-07-03T07:09:34.342909Z",
     "start_time": "2024-07-03T07:09:34.341030Z"
    }
   },
   "cell_type": "code",
   "source": "response.choices[0].message.content",
   "id": "53007b08c4534f9c",
   "outputs": [
    {
     "data": {
      "text/plain": [
       "'\\n以下是一个简单的CSV格式的文本表格，包含了四列和五行数据。您可以将此文本复制并粘贴到文本编辑器中，将其保存为扩展名为`.csv`的文件，然后使用电子表格程序（如Microsoft Excel或LibreOffice Calc）或任何支持CSV格式的软件来查看它。\\n\\n```csv\\n标题,名称,数量,价格\\nRecord 1,产品A,5,9.99\\nRecord 2,产品B,2,19.99\\nRecord 3,产品C,1,4.99\\nRecord 4,产品D,3,14.99\\nRecord 5,产品E,4,7.99\\n```'"
      ]
     },
     "execution_count": 4,
     "metadata": {},
     "output_type": "execute_result"
    }
   ],
   "execution_count": 4
  },
  {
   "metadata": {
    "ExecuteTime": {
     "end_time": "2024-07-03T07:09:37.491979Z",
     "start_time": "2024-07-03T07:09:36.147848Z"
    }
   },
   "cell_type": "code",
   "source": [
    "# set the LANGCHAIN_API_KEY environment variable (create key in settings)\n",
    "from langchain import hub\n",
    "prompt = hub.pull(\"rlm/rag-prompt\")"
   ],
   "id": "7a785cf3151e95c4",
   "outputs": [],
   "execution_count": 5
  },
  {
   "metadata": {
    "ExecuteTime": {
     "end_time": "2024-07-03T07:09:37.988364Z",
     "start_time": "2024-07-03T07:09:37.986836Z"
    }
   },
   "cell_type": "code",
   "source": "runnable = prompt | llm",
   "id": "da45f5fbbe403b3c",
   "outputs": [],
   "execution_count": 6
  },
  {
   "metadata": {
    "ExecuteTime": {
     "end_time": "2024-07-03T07:09:39.604590Z",
     "start_time": "2024-07-03T07:09:39.602557Z"
    }
   },
   "cell_type": "code",
   "source": [
    "from langchain_core.prompts import PromptTemplate\n",
    "\n",
    "template = \"\"\"Question: {question}\n",
    "\n",
    "Answer: Let's think step by step.\"\"\"\n",
    "\n",
    "prompt = PromptTemplate.from_template(template)"
   ],
   "id": "8ac14605c3e8377a",
   "outputs": [],
   "execution_count": 7
  },
  {
   "metadata": {
    "ExecuteTime": {
     "end_time": "2024-07-03T07:09:44.086712Z",
     "start_time": "2024-07-03T07:09:41.356293Z"
    }
   },
   "cell_type": "code",
   "source": [
    "llm_chain = prompt | llm\n",
    "\n",
    "question = \"今天是什么日子？\"\n",
    "\n",
    "llm_chain.invoke(question)"
   ],
   "id": "3dded87ea0784b39",
   "outputs": [
    {
     "data": {
      "text/plain": [
       "AIMessage(content='作为一个AI，我无法实时提供日期，因为我没有实时更新的能力。但是，如果你是在询问某个具体的日子的意义，比如节日、纪念日等，我可以提供一些常见日期的信息。例如，如果你问“今天是情人节吗？”我可以告诉你情人节是每年的2月14日。如果你需要具体日期，请参考你设备上的日历。', response_metadata={'token_usage': {'completion_tokens': 74, 'prompt_tokens': 35, 'total_tokens': 109}, 'model_name': 'qwen2', 'system_fingerprint': None, 'finish_reason': 'stop', 'logprobs': None}, id='run-a611810c-2228-4dc6-934e-3b7f165efd12-0', usage_metadata={'input_tokens': 35, 'output_tokens': 74, 'total_tokens': 109})"
      ]
     },
     "execution_count": 8,
     "metadata": {},
     "output_type": "execute_result"
    }
   ],
   "execution_count": 8
  },
  {
   "metadata": {
    "ExecuteTime": {
     "end_time": "2024-07-02T03:04:44.948306Z",
     "start_time": "2024-07-02T03:04:44.925168Z"
    }
   },
   "cell_type": "code",
   "source": [
    "from typing import Annotated\n",
    "\n",
    "from typing_extensions import TypedDict\n",
    "\n",
    "from langgraph.graph import StateGraph\n",
    "from langgraph.graph.message import add_messages\n",
    "\n",
    "class State(TypedDict):\n",
    "    # 消息用列表的格式和‘add_messages'函数保存\n",
    "    messages: Annotated[list, add_messages]\n",
    "\n",
    "graph_builder = StateGraph(State)    "
   ],
   "id": "b976888b5a63feec",
   "outputs": [],
   "execution_count": 7
  },
  {
   "metadata": {},
   "cell_type": "code",
   "outputs": [],
   "execution_count": null,
   "source": "from langchain_openai import ChatOpenAI",
   "id": "bc97cef59f466ef9"
  },
  {
   "metadata": {
    "ExecuteTime": {
     "end_time": "2024-07-01T07:17:17.546297Z",
     "start_time": "2024-07-01T07:17:17.543812Z"
    }
   },
   "cell_type": "code",
   "source": [
    "llm = client\n",
    "\n",
    "def chatbot(state: State):\n",
    "    return {\"messages\": [llm.invoke(state[\"messages\"])]}\n",
    "\n",
    "\n",
    "# The first argument is the unique node name\n",
    "# The second argument is the function or object that will be called whenever\n",
    "# the node is used.\n",
    "graph_builder.add_node(\"chatbot\", chatbot)"
   ],
   "id": "3ec3920a077737eb",
   "outputs": [],
   "execution_count": 5
  },
  {
   "metadata": {
    "ExecuteTime": {
     "end_time": "2024-07-01T07:17:17.549022Z",
     "start_time": "2024-07-01T07:17:17.547028Z"
    }
   },
   "cell_type": "code",
   "source": [
    "graph_builder.set_entry_point(\"chatbot\")\n",
    "graph_builder.set_finish_point(\"chatbot\")"
   ],
   "id": "d6429d50679c547d",
   "outputs": [],
   "execution_count": 6
  },
  {
   "metadata": {
    "ExecuteTime": {
     "end_time": "2024-07-01T07:17:45.203958Z",
     "start_time": "2024-07-01T07:17:45.201360Z"
    }
   },
   "cell_type": "code",
   "source": "graph = graph_builder.compile()",
   "id": "9e08074002b8e3fb",
   "outputs": [],
   "execution_count": 7
  },
  {
   "metadata": {
    "ExecuteTime": {
     "end_time": "2024-07-01T07:18:07.091548Z",
     "start_time": "2024-07-01T07:18:06.161015Z"
    }
   },
   "cell_type": "code",
   "source": [
    "from IPython.display import Image, display\n",
    "\n",
    "try:\n",
    "    display(Image(graph.get_graph().draw_mermaid_png()))\n",
    "except Exception:\n",
    "    # This requires some extra dependencies and is optional\n",
    "    pass"
   ],
   "id": "b3ef48cac1faaf4f",
   "outputs": [
    {
     "data": {
      "image/jpeg": "[encoded data removed]",
      "text/plain": [
       "<IPython.core.display.Image object>"
      ]
     },
     "metadata": {},
     "output_type": "display_data"
    }
   ],
   "execution_count": 8
  },
  {
   "metadata": {
    "ExecuteTime": {
     "end_time": "2024-07-01T07:18:42.826388Z",
     "start_time": "2024-07-01T07:18:35.516087Z"
    }
   },
   "cell_type": "code",
   "source": [
    "while True:\n",
    "    user_input = input(\"User: \")\n",
    "    if user_input.lower() in [\"quit\", \"exit\", \"q\"]:\n",
    "        print(\"Goodbye!\")\n",
    "        break\n",
    "    for event in graph.stream({\"messages\": (\"user\", user_input)}):\n",
    "        for value in event.values():\n",
    "            print(\"Assistant:\", value[\"messages\"][-1].content)"
   ],
   "id": "959b41cf6ba92136",
   "outputs": [
    {
     "ename": "AttributeError",
     "evalue": "'OpenAI' object has no attribute 'invoke'",
     "output_type": "error",
     "traceback": [
      "\u001B[0;31m---------------------------------------------------------------------------\u001B[0m",
      "\u001B[0;31mAttributeError\u001B[0m                            Traceback (most recent call last)",
      "Cell \u001B[0;32mIn[9], line 6\u001B[0m\n\u001B[1;32m      4\u001B[0m     \u001B[38;5;28mprint\u001B[39m(\u001B[38;5;124m\"\u001B[39m\u001B[38;5;124mGoodbye!\u001B[39m\u001B[38;5;124m\"\u001B[39m)\n\u001B[1;32m      5\u001B[0m     \u001B[38;5;28;01mbreak\u001B[39;00m\n\u001B[0;32m----> 6\u001B[0m \u001B[38;5;28;01mfor\u001B[39;00m event \u001B[38;5;129;01min\u001B[39;00m graph\u001B[38;5;241m.\u001B[39mstream({\u001B[38;5;124m\"\u001B[39m\u001B[38;5;124mmessages\u001B[39m\u001B[38;5;124m\"\u001B[39m: (\u001B[38;5;124m\"\u001B[39m\u001B[38;5;124muser\u001B[39m\u001B[38;5;124m\"\u001B[39m, user_input)}):\n\u001B[1;32m      7\u001B[0m     \u001B[38;5;28;01mfor\u001B[39;00m value \u001B[38;5;129;01min\u001B[39;00m event\u001B[38;5;241m.\u001B[39mvalues():\n\u001B[1;32m      8\u001B[0m         \u001B[38;5;28mprint\u001B[39m(\u001B[38;5;124m\"\u001B[39m\u001B[38;5;124mAssistant:\u001B[39m\u001B[38;5;124m\"\u001B[39m, value[\u001B[38;5;124m\"\u001B[39m\u001B[38;5;124mmessages\u001B[39m\u001B[38;5;124m\"\u001B[39m][\u001B[38;5;241m-\u001B[39m\u001B[38;5;241m1\u001B[39m]\u001B[38;5;241m.\u001B[39mcontent)\n",
      "File \u001B[0;32m~/miniconda3/envs/llm/lib/python3.11/site-packages/langgraph/pregel/__init__.py:986\u001B[0m, in \u001B[0;36mPregel.stream\u001B[0;34m(self, input, config, stream_mode, output_keys, input_keys, interrupt_before, interrupt_after, debug)\u001B[0m\n\u001B[1;32m    983\u001B[0m         \u001B[38;5;28;01mdel\u001B[39;00m fut, task\n\u001B[1;32m    985\u001B[0m \u001B[38;5;66;03m# panic on failure or timeout\u001B[39;00m\n\u001B[0;32m--> 986\u001B[0m _panic_or_proceed(done, inflight, step)\n\u001B[1;32m    987\u001B[0m \u001B[38;5;66;03m# don't keep futures around in memory longer than needed\u001B[39;00m\n\u001B[1;32m    988\u001B[0m \u001B[38;5;28;01mdel\u001B[39;00m done, inflight, futures\n",
      "File \u001B[0;32m~/miniconda3/envs/llm/lib/python3.11/site-packages/langgraph/pregel/__init__.py:1540\u001B[0m, in \u001B[0;36m_panic_or_proceed\u001B[0;34m(done, inflight, step)\u001B[0m\n\u001B[1;32m   1538\u001B[0m             inflight\u001B[38;5;241m.\u001B[39mpop()\u001B[38;5;241m.\u001B[39mcancel()\n\u001B[1;32m   1539\u001B[0m         \u001B[38;5;66;03m# raise the exception\u001B[39;00m\n\u001B[0;32m-> 1540\u001B[0m         \u001B[38;5;28;01mraise\u001B[39;00m exc\n\u001B[1;32m   1542\u001B[0m \u001B[38;5;28;01mif\u001B[39;00m inflight:\n\u001B[1;32m   1543\u001B[0m     \u001B[38;5;66;03m# if we got here means we timed out\u001B[39;00m\n\u001B[1;32m   1544\u001B[0m     \u001B[38;5;28;01mwhile\u001B[39;00m inflight:\n\u001B[1;32m   1545\u001B[0m         \u001B[38;5;66;03m# cancel all pending tasks\u001B[39;00m\n",
      "File \u001B[0;32m~/miniconda3/envs/llm/lib/python3.11/concurrent/futures/thread.py:58\u001B[0m, in \u001B[0;36m_WorkItem.run\u001B[0;34m(self)\u001B[0m\n\u001B[1;32m     55\u001B[0m     \u001B[38;5;28;01mreturn\u001B[39;00m\n\u001B[1;32m     57\u001B[0m \u001B[38;5;28;01mtry\u001B[39;00m:\n\u001B[0;32m---> 58\u001B[0m     result \u001B[38;5;241m=\u001B[39m \u001B[38;5;28mself\u001B[39m\u001B[38;5;241m.\u001B[39mfn(\u001B[38;5;241m*\u001B[39m\u001B[38;5;28mself\u001B[39m\u001B[38;5;241m.\u001B[39margs, \u001B[38;5;241m*\u001B[39m\u001B[38;5;241m*\u001B[39m\u001B[38;5;28mself\u001B[39m\u001B[38;5;241m.\u001B[39mkwargs)\n\u001B[1;32m     59\u001B[0m \u001B[38;5;28;01mexcept\u001B[39;00m \u001B[38;5;167;01mBaseException\u001B[39;00m \u001B[38;5;28;01mas\u001B[39;00m exc:\n\u001B[1;32m     60\u001B[0m     \u001B[38;5;28mself\u001B[39m\u001B[38;5;241m.\u001B[39mfuture\u001B[38;5;241m.\u001B[39mset_exception(exc)\n",
      "File \u001B[0;32m~/miniconda3/envs/llm/lib/python3.11/site-packages/langgraph/pregel/retry.py:72\u001B[0m, in \u001B[0;36mrun_with_retry\u001B[0;34m(task, retry_policy)\u001B[0m\n\u001B[1;32m     70\u001B[0m task\u001B[38;5;241m.\u001B[39mwrites\u001B[38;5;241m.\u001B[39mclear()\n\u001B[1;32m     71\u001B[0m \u001B[38;5;66;03m# run the task\u001B[39;00m\n\u001B[0;32m---> 72\u001B[0m task\u001B[38;5;241m.\u001B[39mproc\u001B[38;5;241m.\u001B[39minvoke(task\u001B[38;5;241m.\u001B[39minput, task\u001B[38;5;241m.\u001B[39mconfig)\n\u001B[1;32m     73\u001B[0m \u001B[38;5;66;03m# if successful, end\u001B[39;00m\n\u001B[1;32m     74\u001B[0m \u001B[38;5;28;01mbreak\u001B[39;00m\n",
      "File \u001B[0;32m~/miniconda3/envs/llm/lib/python3.11/site-packages/langchain_core/runnables/base.py:2502\u001B[0m, in \u001B[0;36mRunnableSequence.invoke\u001B[0;34m(self, input, config, **kwargs)\u001B[0m\n\u001B[1;32m   2498\u001B[0m config \u001B[38;5;241m=\u001B[39m patch_config(\n\u001B[1;32m   2499\u001B[0m     config, callbacks\u001B[38;5;241m=\u001B[39mrun_manager\u001B[38;5;241m.\u001B[39mget_child(\u001B[38;5;124mf\u001B[39m\u001B[38;5;124m\"\u001B[39m\u001B[38;5;124mseq:step:\u001B[39m\u001B[38;5;132;01m{\u001B[39;00mi\u001B[38;5;241m+\u001B[39m\u001B[38;5;241m1\u001B[39m\u001B[38;5;132;01m}\u001B[39;00m\u001B[38;5;124m\"\u001B[39m)\n\u001B[1;32m   2500\u001B[0m )\n\u001B[1;32m   2501\u001B[0m \u001B[38;5;28;01mif\u001B[39;00m i \u001B[38;5;241m==\u001B[39m \u001B[38;5;241m0\u001B[39m:\n\u001B[0;32m-> 2502\u001B[0m     \u001B[38;5;28minput\u001B[39m \u001B[38;5;241m=\u001B[39m step\u001B[38;5;241m.\u001B[39minvoke(\u001B[38;5;28minput\u001B[39m, config, \u001B[38;5;241m*\u001B[39m\u001B[38;5;241m*\u001B[39mkwargs)\n\u001B[1;32m   2503\u001B[0m \u001B[38;5;28;01melse\u001B[39;00m:\n\u001B[1;32m   2504\u001B[0m     \u001B[38;5;28minput\u001B[39m \u001B[38;5;241m=\u001B[39m step\u001B[38;5;241m.\u001B[39minvoke(\u001B[38;5;28minput\u001B[39m, config)\n",
      "File \u001B[0;32m~/miniconda3/envs/llm/lib/python3.11/site-packages/langgraph/utils.py:95\u001B[0m, in \u001B[0;36mRunnableCallable.invoke\u001B[0;34m(self, input, config, **kwargs)\u001B[0m\n\u001B[1;32m     93\u001B[0m     \u001B[38;5;28;01mif\u001B[39;00m accepts_config(\u001B[38;5;28mself\u001B[39m\u001B[38;5;241m.\u001B[39mfunc):\n\u001B[1;32m     94\u001B[0m         kwargs[\u001B[38;5;124m\"\u001B[39m\u001B[38;5;124mconfig\u001B[39m\u001B[38;5;124m\"\u001B[39m] \u001B[38;5;241m=\u001B[39m config\n\u001B[0;32m---> 95\u001B[0m     ret \u001B[38;5;241m=\u001B[39m context\u001B[38;5;241m.\u001B[39mrun(\u001B[38;5;28mself\u001B[39m\u001B[38;5;241m.\u001B[39mfunc, \u001B[38;5;28minput\u001B[39m, \u001B[38;5;241m*\u001B[39m\u001B[38;5;241m*\u001B[39mkwargs)\n\u001B[1;32m     96\u001B[0m \u001B[38;5;28;01mif\u001B[39;00m \u001B[38;5;28misinstance\u001B[39m(ret, Runnable) \u001B[38;5;129;01mand\u001B[39;00m \u001B[38;5;28mself\u001B[39m\u001B[38;5;241m.\u001B[39mrecurse:\n\u001B[1;32m     97\u001B[0m     \u001B[38;5;28;01mreturn\u001B[39;00m ret\u001B[38;5;241m.\u001B[39minvoke(\u001B[38;5;28minput\u001B[39m, config)\n",
      "Cell \u001B[0;32mIn[5], line 4\u001B[0m, in \u001B[0;36mchatbot\u001B[0;34m(state)\u001B[0m\n\u001B[1;32m      3\u001B[0m \u001B[38;5;28;01mdef\u001B[39;00m \u001B[38;5;21mchatbot\u001B[39m(state: State):\n\u001B[0;32m----> 4\u001B[0m     \u001B[38;5;28;01mreturn\u001B[39;00m {\u001B[38;5;124m\"\u001B[39m\u001B[38;5;124mmessages\u001B[39m\u001B[38;5;124m\"\u001B[39m: [llm\u001B[38;5;241m.\u001B[39minvoke(state[\u001B[38;5;124m\"\u001B[39m\u001B[38;5;124mmessages\u001B[39m\u001B[38;5;124m\"\u001B[39m])]}\n",
      "\u001B[0;31mAttributeError\u001B[0m: 'OpenAI' object has no attribute 'invoke'"
     ]
    }
   ],
   "execution_count": 9
  },
  {
   "metadata": {},
   "cell_type": "code",
   "outputs": [],
   "execution_count": null,
   "source": "",
   "id": "6bfe0db467f45042"
  }
 ],
 "metadata": {
  "kernelspec": {
   "display_name": "Python 3",
   "language": "python",
   "name": "python3"
  },
  "language_info": {
   "codemirror_mode": {
    "name": "ipython",
    "version": 2
   },
   "file_extension": ".py",
   "mimetype": "text/x-python",
   "name": "python",
   "nbconvert_exporter": "python",
   "pygments_lexer": "ipython2",
   "version": "2.7.6"
  }
 },
 "nbformat": 4,
 "nbformat_minor": 5
}
